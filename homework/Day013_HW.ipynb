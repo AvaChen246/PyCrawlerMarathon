{
 "cells": [
  {
   "cell_type": "markdown",
   "metadata": {},
   "source": [
    "# PTT 網路爬蟲實作練習\n",
    "\n",
    "\n",
    "* 能夠利用 Request + BeatifulSour 撰寫爬蟲，並存放到合適的資料結構\n"
   ]
  },
  {
   "cell_type": "markdown",
   "metadata": {},
   "source": [
    "## 作業目標\n",
    "\n",
    "根據範例 ，完成以下問題：\n",
    "\n",
    "* ① 印出最新文章的「作者」「標題」「時間」\n",
    "* ② 印出第一頁所有文章的「作者」「標題」「時間」\n"
   ]
  },
  {
   "cell_type": "markdown",
   "metadata": {},
   "source": [
    "### ① 印出最新文章的「作者」「標題」「時間」"
   ]
  },
  {
   "cell_type": "code",
   "execution_count": 5,
   "metadata": {},
   "outputs": [
    {
     "name": "stdout",
     "output_type": "stream",
     "text": [
      "作者:ckny (辛苦的歲月)\n",
      "標題:[專欄] Lou:夜店用餐 Hart:夜店雞翅好吃我也要烙\n",
      "時間:Mon Jul 27 15:10:55 2020\n"
     ]
    }
   ],
   "source": [
    "import requests\n",
    "from bs4 import BeautifulSoup\n",
    "\n",
    "url = 'https://www.ptt.cc/bbs/NBA/index.html'\n",
    "r = requests.get(url)\n",
    "\n",
    "soup = BeautifulSoup(r.text, \"html.parser\")\n",
    "\n",
    "d=soup.find(class_=\"title\")\n",
    "#print(d.text.replace('\\t', '').replace('\\n', ''))\n",
    "# Request again\n",
    "r = BeautifulSoup(requests.get('https://www.ptt.cc'+d.find('a')['href']).text, \"html.parser\")\n",
    "for d in r.find_all(class_='article-metaline'):\n",
    "    print(d.find(class_='article-meta-tag').text+ ':' + d.find(class_='article-meta-value').text)"
   ]
  },
  {
   "cell_type": "markdown",
   "metadata": {},
   "source": [
    "### ② 印出第一頁所有文章的「作者」「標題」「時間」"
   ]
  },
  {
   "cell_type": "code",
   "execution_count": 6,
   "metadata": {},
   "outputs": [
    {
     "name": "stdout",
     "output_type": "stream",
     "text": [
      "作者:ckny (辛苦的歲月)\n",
      "標題:[專欄] Lou:夜店用餐 Hart:夜店雞翅好吃我也要烙\n",
      "時間:Mon Jul 27 15:10:55 2020\n",
      "作者:thnlkj0665 (灰色地帶)\n",
      "標題:[花邊] 年度MVP爭奪戰 里拉德：詹姆斯當之無愧\n",
      "時間:Mon Jul 27 19:08:22 2020\n",
      "作者:thnlkj0665 (灰色地帶)\n",
      "標題:[情報] James Harden 戴面罩出席賽後記者會\n",
      "時間:Mon Jul 27 22:18:32 2020\n",
      "作者:jackal44748 (流雲絮雨)\n",
      "標題:[情報] KI將資助1.5M給WNBA球員\n",
      "時間:Mon Jul 27 23:50:17 2020\n",
      "作者:love1500274 (CoWuCoWu)\n",
      "標題:[Live] 巫師 @ 湖人 熱身賽\n",
      "時間:Tue Jul 28 02:54:40 2020\n",
      "作者:love1500274 (CoWuCoWu)\n",
      "標題:[Live] 國王 @ 快艇 熱身賽\n",
      "時間:Tue Jul 28 04:07:21 2020\n",
      "作者:pneumo (超☆冒險蓋)\n",
      "標題:[情報] 魯長老跟臭臉在推特上嗆起來了\n",
      "時間:Tue Jul 28 10:06:48 2020\n",
      "作者:Vedan (味丹)\n",
      "標題:[公告] 第一次被退文，可在三天後刪除退文\n",
      "時間:Mon Mar  9 11:44:26 2020\n",
      "作者:Acetoxy (阿斯)\n",
      "標題:[情報] SEASON Schedule 賽程 July 19–20\n",
      "時間:Tue Jul 21 19:43:39 2020\n",
      "作者:kaikai1112 (骨髓捐贈match也是種緣份)\n",
      "標題:[情報] 復賽種子賽賽程(台灣時間)\n",
      "時間:Tue Jul 21 19:24:04 2020\n",
      "作者:kaikai1112 (骨髓捐贈match也是種緣份)\n",
      "標題:[情報] 復賽熱身混戰賽程(台灣時間)\n",
      "時間:Tue Jul 21 18:52:35 2020\n"
     ]
    }
   ],
   "source": [
    "import requests\n",
    "from bs4 import BeautifulSoup\n",
    "\n",
    "url = 'https://www.ptt.cc/bbs/NBA/index.html'\n",
    "r = requests.get(url)\n",
    "\n",
    "soup = BeautifulSoup(r.text, \"html.parser\")\n",
    "\n",
    "for d in soup.find_all(class_=\"title\"):\n",
    "    try:\n",
    "        r = BeautifulSoup(requests.get('https://www.ptt.cc'+d.find('a')['href']).text, \"html.parser\")\n",
    "        for c in r.find_all(class_='article-metaline'):\n",
    "            print(c.find(class_='article-meta-tag').text+ ':' + c.find(class_='article-meta-value').text)\n",
    "    except:\n",
    "        continue\n"
   ]
  },
  {
   "cell_type": "markdown",
   "metadata": {},
   "source": [
    "### ③ 試著爬爬看其他版的文章"
   ]
  },
  {
   "cell_type": "code",
   "execution_count": 7,
   "metadata": {},
   "outputs": [
    {
     "name": "stdout",
     "output_type": "stream",
     "text": [
      "作者:bkero (Parker)\n",
      "標題:[心得]THREE腮紅21 三!二!一!撈起臉上的鮮蝦雲吞\n",
      "時間:Mon Jul 27 11:56:05 2020\n",
      "作者:smi1e (smile)\n",
      "標題:[心得] viseart超顯色眼影\n",
      "時間:Mon Jul 27 12:51:26 2020\n",
      "作者:goldenweek (蜻蜓)\n",
      "標題:[心得] 原生嬰兒唇色HEME水潤唇膏#13 \n",
      "時間:Mon Jul 27 12:56:38 2020\n",
      "作者:rosetalin (月桂葉)\n",
      "標題:[心得] 三倍券振興Addiction首入坑超美新品眼影\n",
      "時間:Mon Jul 27 15:24:11 2020\n",
      "作者:cuterabbit (美好時光)\n",
      "標題:[選擇] 有人用過韓國PIKATA的眼影霜嗎？\n",
      "時間:Mon Jul 27 16:42:08 2020\n",
      "作者:backtrue (咖啡冰沙去冰)\n",
      "標題:[情報] 我老婆在用的酵素皂品牌開放試用\n",
      "時間:Mon Jul 27 17:41:50 2020\n",
      "作者:ponhooo (大食怪)\n",
      "標題:[心得] 夏天強大底妝組 Loreal粉底蜜粉餅.兩噴\n",
      "時間:Mon Jul 27 18:12:42 2020\n",
      "作者:catcat0607 (Fe)\n",
      "標題:[問題] 像我這樣臥蠶到底要不要畫\n",
      "時間:Mon Jul 27 19:32:20 2020\n",
      "作者:schwarzswan (灰天鵝)\n",
      "標題:[心得] 在用的不同等級的妝前乳\n",
      "時間:Mon Jul 27 20:32:27 2020\n",
      "作者:PIBO (Pibo)\n",
      "標題:[閒聊] 只有一個預算買lamer ，粉餅還是粉底液\n",
      "時間:Mon Jul 27 20:40:18 2020\n",
      "作者:shake5566 (shake5566)\n",
      "標題:[心得] 校色超自然的妝前好物~蘭芝柔霧調色隔離\n",
      "時間:Mon Jul 27 20:42:18 2020\n",
      "作者:joyance0831 (joyance)\n",
      "標題:[心得] Bobbie brown 證件照活動 （南西店）\n",
      "時間:Mon Jul 27 21:14:38 2020\n",
      "作者:pennye (Penny Yeh)\n",
      "標題:[心得] CelesteTerry不能沒有唇膏-Vintage\n",
      "時間:Mon Jul 27 22:34:12 2020\n",
      "作者:umunya (うむ)\n",
      "標題:[選擇]底妝選擇困難\n",
      "時間:Tue Jul 28 03:51:52 2020\n",
      "作者:cvb50179 (奶茶好喝)\n",
      "標題:[心得] Chanel晶亮水唇膏moment透明感奶茶\n",
      "時間:Tue Jul 28 10:51:41 2020\n",
      "作者:leon8712 (卡斯基)\n",
      "標題:[情報] 2020/07月 熱門商品推文區\n",
      "時間:Fri Jul  3 20:05:08 2020\n",
      "作者:leon8712 (卡斯基)\n",
      "標題:[閒聊] 2020/07月 置底打屁閒聊區\n",
      "時間:Fri Jul  3 20:06:43 2020\n",
      "作者:leon8712 (卡斯基)\n",
      "標題:[公告] 重申板規四問卷之規定，也請板友們留意\n",
      "時間:Mon Dec 10 01:53:56 2018\n"
     ]
    }
   ],
   "source": [
    "\n",
    "url = 'https://www.ptt.cc/bbs/MakeUp/index.html'\n",
    "r = requests.get(url)\n",
    "\n",
    "soup = BeautifulSoup(r.text, \"html.parser\")\n",
    "\n",
    "for d in soup.find_all(class_=\"title\"):\n",
    "    try:\n",
    "        r = BeautifulSoup(requests.get('https://www.ptt.cc'+d.find('a')['href']).text, \"html.parser\")\n",
    "        for c in r.find_all(class_='article-metaline'):\n",
    "            print(c.find(class_='article-meta-tag').text+ ':' + c.find(class_='article-meta-value').text)\n",
    "    except:\n",
    "        continue"
   ]
  }
 ],
 "metadata": {
  "kernelspec": {
   "display_name": "Python crawler",
   "language": "python",
   "name": "crawler"
  },
  "language_info": {
   "codemirror_mode": {
    "name": "ipython",
    "version": 3
   },
   "file_extension": ".py",
   "mimetype": "text/x-python",
   "name": "python",
   "nbconvert_exporter": "python",
   "pygments_lexer": "ipython3",
   "version": "3.7.7"
  }
 },
 "nbformat": 4,
 "nbformat_minor": 2
}
