{
 "cells": [
  {
   "cell_type": "markdown",
   "metadata": {},
   "source": [
    "# 動態網頁爬蟲 - API Request\n",
    "\n",
    "* 了解 API Request 用於動態網頁爬蟲的原理\n",
    "* 能夠使用 API Request 撰寫動態網頁爬蟲\n",
    "\n",
    "\n",
    "\n",
    "\n"
   ]
  },
  {
   "cell_type": "markdown",
   "metadata": {},
   "source": [
    "## 作業目標\n",
    "\n",
    "* 根據範例的教學，去找出 Dcard 中呼叫的 API 當中，有一個跟「取得所有看板」是哪一個？並且利用 Requests 呼叫。\n"
   ]
  },
  {
   "cell_type": "markdown",
   "metadata": {},
   "source": [
    "* 請附上截圖：_______\n",
    "\n",
    "![]()"
   ]
  },
  {
   "cell_type": "markdown",
   "metadata": {},
   "source": [
    "![HW20_1](./HW20_1.png)"
   ]
  },
  {
   "cell_type": "markdown",
   "metadata": {},
   "source": [
    "![HW20_2](./HW20_2.png)"
   ]
  },
  {
   "cell_type": "code",
   "execution_count": 7,
   "metadata": {},
   "outputs": [
    {
     "data": {
      "text/plain": [
       "[{'id': 'cbd5285f-3cba-4bfc-86d0-1ab52d201459',\n",
       "  'orderNum': 1,\n",
       "  'sensitiveSelection': False,\n",
       "  'name': '美妝',\n",
       "  'alias': 'makeup'},\n",
       " {'id': 'cd2959fe-5515-4c1e-bd35-1cd4c36b44f0',\n",
       "  'orderNum': 2,\n",
       "  'sensitiveSelection': False,\n",
       "  'name': '新生季',\n",
       "  'alias': 'freshman'},\n",
       " {'id': '214c3abb-6cf8-44b2-86b3-c156a9c5bbf2',\n",
       "  'orderNum': 3,\n",
       "  'sensitiveSelection': False,\n",
       "  'name': 'NBA',\n",
       "  'alias': 'nba'},\n",
       " {'id': 'be1a095b-175e-4523-9e06-66a05d939676',\n",
       "  'orderNum': 5,\n",
       "  'sensitiveSelection': False,\n",
       "  'name': '穿搭',\n",
       "  'alias': 'dressup'},\n",
       " {'id': '9ee9fe06-9ffa-4169-8910-618e783f862f',\n",
       "  'orderNum': 12,\n",
       "  'sensitiveSelection': False,\n",
       "  'name': '楓之谷',\n",
       "  'alias': 'maple_story'},\n",
       " {'id': '019a92bb-1305-4471-88dd-872c6ee60ce7',\n",
       "  'orderNum': 13,\n",
       "  'sensitiveSelection': False,\n",
       "  'name': '日劇',\n",
       "  'alias': 'jp_drama'},\n",
       " {'id': '28e79ba0-8ded-4acc-a6b2-f015bdef7605',\n",
       "  'orderNum': 14,\n",
       "  'sensitiveSelection': False,\n",
       "  'name': '歐美影集',\n",
       "  'alias': 'ea_series'},\n",
       " {'id': '8e09d062-401c-4d91-a700-d4d93cd134e1',\n",
       "  'orderNum': 15,\n",
       "  'sensitiveSelection': False,\n",
       "  'name': '消防',\n",
       "  'alias': 'I_I_IX'},\n",
       " {'id': 'a5837b3c-088c-45a0-b537-28f91ce83c63',\n",
       "  'orderNum': 16,\n",
       "  'sensitiveSelection': False,\n",
       "  'name': '海外工作',\n",
       "  'alias': 'oversea_job'},\n",
       " {'id': '61f1f8d3-0d15-4f5c-81ce-f6b361c7242e',\n",
       "  'orderNum': 17,\n",
       "  'sensitiveSelection': False,\n",
       "  'name': '餐飲業',\n",
       "  'alias': 'catering'},\n",
       " {'id': '05961595-fe4a-4843-9b54-4ec22951aa3f',\n",
       "  'orderNum': 18,\n",
       "  'sensitiveSelection': False,\n",
       "  'name': '歐洲生活',\n",
       "  'alias': 'life_in_europe'},\n",
       " {'id': 'b6d3c83f-4799-4154-98cb-a7e2437d5b22',\n",
       "  'orderNum': 19,\n",
       "  'sensitiveSelection': False,\n",
       "  'name': '手寫',\n",
       "  'alias': 'caligraphy'},\n",
       " {'id': '6df2a719-120d-42ed-b02f-8ada90ff8c99',\n",
       "  'orderNum': 20,\n",
       "  'sensitiveSelection': False,\n",
       "  'name': '身心障礙',\n",
       "  'alias': 'disabled'},\n",
       " {'id': '9a9e6d52-2192-4c1c-a8f0-3104700c3309',\n",
       "  'orderNum': 22,\n",
       "  'sensitiveSelection': False,\n",
       "  'name': '教師',\n",
       "  'alias': 'teacher'},\n",
       " {'id': '1ce3ebca-8701-42d5-b14c-076fc629bc8e',\n",
       "  'orderNum': 23,\n",
       "  'sensitiveSelection': True,\n",
       "  'name': '西斯',\n",
       "  'alias': 'sex'}]"
      ]
     },
     "execution_count": 7,
     "metadata": {},
     "output_type": "execute_result"
    }
   ],
   "source": [
    "import requests\n",
    "import json\n",
    "url='https://www.dcard.tw/service/api/v2/selections/forums/TW?sensitiveSelection=true'\n",
    "headers={\n",
    "    'request-through-cf':'true',\n",
    "    'User-Agent': 'Mozilla/5.0 (Windows NT 10.0; Win64; x64) AppleWebKit/537.36 (KHTML, like Gecko) Chrome/85.0.4183.83 Safari/537.36'\n",
    "}\n",
    "r = requests.get(url,headers=headers)\n",
    "d = json.loads(r.text)\n",
    "\n",
    "d"
   ]
  },
  {
   "cell_type": "code",
   "execution_count": null,
   "metadata": {},
   "outputs": [],
   "source": []
  },
  {
   "cell_type": "code",
   "execution_count": null,
   "metadata": {},
   "outputs": [],
   "source": []
  }
 ],
 "metadata": {
  "kernelspec": {
   "display_name": "Python crawler",
   "language": "python",
   "name": "crawler"
  },
  "language_info": {
   "codemirror_mode": {
    "name": "ipython",
    "version": 3
   },
   "file_extension": ".py",
   "mimetype": "text/x-python",
   "name": "python",
   "nbconvert_exporter": "python",
   "pygments_lexer": "ipython3",
   "version": "3.7.7"
  }
 },
 "nbformat": 4,
 "nbformat_minor": 2
}
